{
 "cells": [
  {
   "cell_type": "code",
   "execution_count": 3,
   "metadata": {},
   "outputs": [
    {
     "name": "stdout",
     "output_type": "stream",
     "text": [
      "1 1 \n",
      "1 1 \n",
      "\n"
     ]
    }
   ],
   "source": [
    "#Buatlah sebuah fungsi untuk membuat matrix berdasarkan input dari user\n",
    "\n",
    "def create_matrix(baris,kolom):\n",
    "    matrix = []\n",
    "\n",
    "    #Tulis kode kamu disini\n",
    "    return matrix\n",
    "\n",
    "baris = int(input('Masukkan Jumlah Baris:\\t'))\n",
    "kolom = int(input('Masukkan Jumlah Kolom:\\t'))\n",
    "\n",
    "matriks = []\n",
    "for i in range(baris):\n",
    "    matriks.append([])\n",
    "\n",
    "    for j in range(kolom):\n",
    "        elemen = int(input(f\"Masukkan elemen matriks [{i}][{j}]:\"))\n",
    "        matriks[i].append(elemen)\n",
    "for i in range(baris):\n",
    "    for j in range(kolom):\n",
    "        print(matriks[i][j], end=\" \")\n",
    "    print()\n",
    "\n",
    "print()\n"
   ]
  },
  {
   "cell_type": "code",
   "execution_count": 4,
   "metadata": {},
   "outputs": [],
   "source": [
    "#Buatlah sebuah fungsi untuk mencari invers matrix berdasarkan input matrix dari user\n",
    "\n",
    "def invers():\n",
    "    det = []\n",
    "\n",
    "    #Tulis kode kamu disini\n",
    "    \n",
    "    uk = int(input('ukuran matriks : '))\n",
    "    for a in range (uk):\n",
    "        area = []\n",
    "        for b in range (uk):\n",
    "            isi = (int(input(f'{a}[{b}]')))\n",
    "            area.append(isi)\n",
    "        det.append(area)\n",
    "\n",
    "    def determinan(det):\n",
    "        c = len (det)\n",
    "        if c== 1:\n",
    "            return det [0][0]\n",
    "        elif c == 2:\n",
    "            return det [0][0] * det[1][1] - det[0][1] * det[1][0]\n",
    "        else:\n",
    "            deter = 0\n",
    "            for i in range (c):\n",
    "                sub = [area[:i] + area[i+1:]for area in det[1:]]\n",
    "                det += ((-1)**i) * det [0][i] * determinan(sub)\n",
    "            return deter\n",
    "        \n",
    "    deter = determinan(det)\n",
    "\n",
    "    baris = int(input('masukkan jumlah baris:\\t'))\n",
    "    kolom = int(input('masukkan jumlah kolom:\\t'))\n",
    "    \n",
    "   "
   ]
  },
  {
   "cell_type": "code",
   "execution_count": 6,
   "metadata": {},
   "outputs": [
    {
     "name": "stdout",
     "output_type": "stream",
     "text": [
      "[[0.5, 1.0, 1.5], [2.0, 2.5, 3.0], [3.5, 4.0, 4.5]]\n"
     ]
    }
   ],
   "source": [
    "#Buatlah Fungsi untuk melakukan pembagian matrix antar matrix berdasarkan input user menggunakan nested loop\n",
    "\n",
    "def bagi_matrix(matrix1, skalar):\n",
    "    hasil = []\n",
    "\n",
    "    #Tulis kode kamu disini\n",
    "    return hasil\n",
    "\n",
    "def bagi_matrix(matrix1, skalar):\n",
    "    hasil = []\n",
    "    for i in range(len(matrix1)):\n",
    "        row = []\n",
    "        for j in range(len(matrix1[0])):\n",
    "            element = matrix1[i][j] / skalar\n",
    "            row.append(element)\n",
    "        hasil.append(row)\n",
    "    return hasil\n",
    "\n",
    "matrix1 = [[1, 2, 3], [4, 5, 6], [7, 8, 9]]\n",
    "skalar = int(input('Matrix dibagi berapa?: '))\n",
    "\n",
    "hasil_pembagian = bagi_matrix(matrix1, skalar)\n",
    "print(hasil_pembagian)"
   ]
  }
 ],
 "metadata": {
  "kernelspec": {
   "display_name": "Python 3",
   "language": "python",
   "name": "python3"
  },
  "language_info": {
   "codemirror_mode": {
    "name": "ipython",
    "version": 3
   },
   "file_extension": ".py",
   "mimetype": "text/x-python",
   "name": "python",
   "nbconvert_exporter": "python",
   "pygments_lexer": "ipython3",
   "version": "3.10.8"
  },
  "orig_nbformat": 4
 },
 "nbformat": 4,
 "nbformat_minor": 2
}
