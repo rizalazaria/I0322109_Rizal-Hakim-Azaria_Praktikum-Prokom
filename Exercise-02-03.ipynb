{
 "cells": [
  {
   "cell_type": "code",
   "execution_count": 1,
   "metadata": {},
   "outputs": [
    {
     "name": "stdout",
     "output_type": "stream",
     "text": [
      "Rizal Hakim Azaria\n",
      "I0322109\n",
      "D\n"
     ]
    }
   ],
   "source": [
    "print(input(\"Nama: \"))\n",
    "print(input(\"NIM: \"))\n",
    "print(input(\"Kelas: \"))"
   ]
  },
  {
   "attachments": {},
   "cell_type": "markdown",
   "metadata": {},
   "source": [
    "## 1."
   ]
  },
  {
   "attachments": {},
   "cell_type": "markdown",
   "metadata": {},
   "source": [
    "diketahui dimensi sebuah aquarium tanpa penutup atas sebagai berikut:\n",
    "\n",
    "```python\n",
    "p = 11\n",
    "l = 1.99\n",
    "t = 25.87\n",
    "```\n",
    "buatkan program sederhana untuk menghitung diagonal tiap sisi dan luas permukaan aquarium tersebut tanpa menggunakan module math."
   ]
  },
  {
   "cell_type": "code",
   "execution_count": 2,
   "metadata": {},
   "outputs": [
    {
     "name": "stdout",
     "output_type": "stream",
     "text": [
      "panjang diagonal sisi depan aquarium adalah = 28.11150831954771\n",
      "panjang diagonal sisi samping aquarium adalah = 25.946425572706545\n",
      "panjang diagonal sisi alas  aquarium adalah = 11.17855536283647\n",
      "luas permukaan aquarium adalah =  642.5113\n"
     ]
    }
   ],
   "source": [
    "#program menghitung diagonal tiap sisi aquarium\n",
    "#input data\n",
    "Diketahui = 'p, l, dan t'\n",
    "p = 11\n",
    "l = 1.99\n",
    "t = 25.87\n",
    "\n",
    "#output data\n",
    "diagonal_sisi_depan_aquarium = float((p**2 + t**2)**0.5)\n",
    "diagonal_sisi_samping_aquarium = float((l**2 + t**2)**0.5)\n",
    "diagonal_sisi_alas_aquarium = float((p**2 + l**2)**0.5)\n",
    "print('panjang diagonal sisi depan aquarium adalah =', diagonal_sisi_depan_aquarium)\n",
    "print('panjang diagonal sisi samping aquarium adalah =', diagonal_sisi_samping_aquarium)\n",
    "print('panjang diagonal sisi alas  aquarium adalah =', diagonal_sisi_alas_aquarium)\n",
    "\n",
    "luas_permukaan_aquarium = float((p*l) + 2*(p*t) + (l*t))\n",
    "print('luas permukaan aquarium adalah = ', luas_permukaan_aquarium)"
   ]
  },
  {
   "attachments": {},
   "cell_type": "markdown",
   "metadata": {},
   "source": [
    "## 2."
   ]
  },
  {
   "attachments": {},
   "cell_type": "markdown",
   "metadata": {},
   "source": [
    "diberikan data nilai mahasiswa sebagai berikut:"
   ]
  },
  {
   "cell_type": "code",
   "execution_count": 1,
   "metadata": {},
   "outputs": [],
   "source": [
    "nilai = {\n",
    "    'Frank': 80,\n",
    "    'Abagnale': 75,\n",
    "    'Cobb': 90,\n",
    "    'Andy Dufresne': 85,\n",
    "    'Ariadne': 70\n",
    "}"
   ]
  },
  {
   "attachments": {},
   "cell_type": "markdown",
   "metadata": {},
   "source": [
    "buatlah program sederhana untuk menghitung nilai rata-rata semua mahasiswa dan mencari siapa yang mendapatkan nilai tertinggi dan nilai terendah. \n",
    "> *note: tidak perlu menggunakan loops untuk membuat program nya*"
   ]
  },
  {
   "cell_type": "code",
   "execution_count": 1,
   "metadata": {},
   "outputs": [
    {
     "name": "stdout",
     "output_type": "stream",
     "text": [
      "Nilai rata-rata dari mahasiswa adalah= 80\n",
      "Nilai tertinggi mahasiswa adalah = 90\n",
      "mahasiswa dengan nilai tertinggi adalah = Cobb\n",
      "Nilai terendah mahasiswa adalah = 70\n",
      "mahasiswa dengan nilai terendah adalah = Ariadne\n"
     ]
    }
   ],
   "source": [
    "#Koding sederhana untuk menghitung nilai rata-rata semua mahasiswa \n",
    "\n",
    "nilai= {\n",
    "    'Frank': 80,\n",
    "    'Abagnale': 75,\n",
    "    'Cobb': 90,\n",
    "    'Andy Dufresne': 85,\n",
    "    'Ariadne': 70\n",
    "}\n",
    "\n",
    "import statistics\n",
    "\n",
    "nilai_mahasiswa = list(nilai.values())\n",
    "rata_rata       = statistics.mean(nilai_mahasiswa)\n",
    "print('Nilai rata-rata dari mahasiswa adalah=', rata_rata)\n",
    "\n",
    "nilai_maksimal  = max(nilai_mahasiswa)\n",
    "print('Nilai tertinggi mahasiswa adalah =', nilai_maksimal)\n",
    "print('Mahasiswa dengan nilai tertinggi adalah = Cobb')\n",
    "nilai_minimal   = min(nilai_mahasiswa)\n",
    "print('Nilai terendah mahasiswa adalah =', nilai_minimal)\n",
    "print('Mahasiswa dengan nilai terendah adalah = Ariadne')"
   ]
  },
  {
   "attachments": {},
   "cell_type": "markdown",
   "metadata": {},
   "source": [
    "## 3. "
   ]
  },
  {
   "attachments": {},
   "cell_type": "markdown",
   "metadata": {},
   "source": [
    "diberikan list aslab sebagai berikut:\n",
    "```python\n",
    "list_aslab = [\n",
    "    {\"nama\": \"Berlian Safri Prakoso\", \"nim\": \"I0320017\", \"kontak\": \"0858XXXXXXXX\"},\n",
    "    {\"nama\": \"Halidya Siti Hanifah\", \"nim\": \"I0320044\", \"kontak\": \"0878XXXXXXXX\"},\n",
    "    {\"nama\": \"Nurki Putra Mahardika\", \"nim\": \"I0320076\", \"kontak\": \"0877XXXXXXXX\"},\n",
    "    {\"nama\": \"Aji Manarul Aziz\", \"nim\": \"I0320119\", \"kontak\": \"0812XXXXXXXX\"},\n",
    "    {\"nama\": \"Alica Ayu Fitriani\", \"nim\": \"I0320121\", \"kontak\": \"0896XXXXXXXX\"},\n",
    "    {\"nama\": \"Dendy Halim Kusuma\", \"nim\": \"I0320125\", \"kontak\": \"0822XXXXXXXX\"}\n",
    "]\n",
    "```\n",
    "* **A** Tuliskan kode untuk mengakses informasi tentang \"nama\" dari semua aslab mulai dari index 1 sampai 5\n",
    "* **B** Tambahkan informasi berikut pada data aslab:\n",
    "```python\n",
    "    surel = [\"berlian@student.uns.ac.id\",\n",
    "          \"halidya@student.uns.ac.id\",\n",
    "          \"nurki@student.uns.ac.id\",\n",
    "          \"manarul@student.uns.ac.id\",\n",
    "          \"alica@student.uns.ac.id\",\n",
    "          \"dendy@student.uns.ac.id\"]\n",
    "```\n",
    "> *note: kalian hanya boleh menggunakan key-value pair yang disebutkan di dalam teks, tanpa menggunakan informasi tambahan yang diambil pada list yang ada*"
   ]
  },
  {
   "cell_type": "code",
   "execution_count": 16,
   "metadata": {},
   "outputs": [
    {
     "name": "stdout",
     "output_type": "stream",
     "text": [
      "Jawaban no 3A\n",
      "informasi terhadap semua nama aslab mulai dari indeks 1 sampai 5\n",
      "menampilkan program yang telah dibuat oleh saya\n",
      "Halidya Siti Hanifah\n",
      "Nurki Putra Mahardika\n",
      "Aji Manarul Aziz\n",
      "Alica Ayu Fitriani\n",
      "Informasi tambahan\n",
      "Berikut ini adalah informasi tambahan dari asisten\n",
      "===================\n",
      "Nama assisten adalah, {'nama': 'Berlian Safri Prakoso', 'nim': 'I0320017', 'kontak': '0858XXXXXXXX', 'Informasi tambahan': 'berlian@student.uns.ac.id'}\n",
      "Nama assisten adalah, {'nama': 'Halidya Siti Hanifah', 'nim': 'I0320044', 'kontak': '0878XXXXXXXX', 'Informasi tambahan': 'halidya@student.uns.ac.id'}\n",
      "Nama assisten adalah, {'nama': 'Nurki Putra Mahardika', 'nim': 'I0320076', 'kontak': '0877XXXXXXXX', 'Informasi tambahan': 'nurki@student.uns.ac.id'}\n",
      "Nama assisten adalah, {'nama': 'Aji Manarul Aziz', 'nim': 'I0320119', 'kontak': '0812XXXXXXXX', 'Informasi tambahan': 'manarul@student.uns.ac.id'}\n",
      "Nama assisten adalah, {'nama': 'Alica Ayu Fitriani', 'nim': 'I0320121', 'kontak': '0896XXXXXXXX', 'Informasi tambahan': 'alica@student.uns.ac.id'}\n",
      "Nama assisten adalah, {'nama': 'Dendy Halim Kusuma', 'nim': 'I0320125', 'kontak': '0822XXXXXXXX', 'Informasi tambahan': 'dendy@student.uns.ac.id'}\n"
     ]
    }
   ],
   "source": [
    "list_aslab = [\n",
    "    {\"nama\": \"Berlian Safri Prakoso\", \"nim\": \"I0320017\", \"kontak\": \"0858XXXXXXXX\"},\n",
    "    {\"nama\": \"Halidya Siti Hanifah\", \"nim\": \"I0320044\", \"kontak\": \"0878XXXXXXXX\"},\n",
    "    {\"nama\": \"Nurki Putra Mahardika\", \"nim\": \"I0320076\", \"kontak\": \"0877XXXXXXXX\"},\n",
    "    {\"nama\": \"Aji Manarul Aziz\", \"nim\": \"I0320119\", \"kontak\": \"0812XXXXXXXX\"},\n",
    "    {\"nama\": \"Alica Ayu Fitriani\", \"nim\": \"I0320121\", \"kontak\": \"0896XXXXXXXX\"},\n",
    "    {\"nama\": \"Dendy Halim Kusuma\", \"nim\": \"I0320125\", \"kontak\": \"0822XXXXXXXX\"}\n",
    "]\n",
    "print('Jawaban no 3A')\n",
    "print('informasi terhadap semua nama aslab mulai dari indeks 1 sampai 5')\n",
    "print('menampilkan program yang telah dibuat oleh saya')\n",
    "\n",
    "for i in range (1,5):\n",
    "    print(list_aslab[i]['nama'])\n",
    "\n",
    "# 3B. Program untuk mengakses informasi tentang \"nama\" dari semua aslab dengan tambahan surel\n",
    "surel = [\"berlian@student.uns.ac.id\",\n",
    "          \"halidya@student.uns.ac.id\",\n",
    "          \"nurki@student.uns.ac.id\",\n",
    "          \"manarul@student.uns.ac.id\",\n",
    "          \"alica@student.uns.ac.id\",\n",
    "          \"dendy@student.uns.ac.id\"]\n",
    "print(\"Informasi tambahan\")\n",
    "print(\"Berikut ini adalah informasi tambahan dari asisten\")\n",
    "print(\"===================\")\n",
    "\n",
    "for i in range (0, len(list_aslab)):\n",
    "    list_aslab[i].update({\"Informasi tambahan\": surel[i]})\n",
    "    print(\"Nama assisten adalah,\", list_aslab[i])"
   ]
  }
 ],
 "metadata": {
  "kernelspec": {
   "display_name": "Python 3",
   "language": "python",
   "name": "python3"
  },
  "language_info": {
   "codemirror_mode": {
    "name": "ipython",
    "version": 3
   },
   "file_extension": ".py",
   "mimetype": "text/x-python",
   "name": "python",
   "nbconvert_exporter": "python",
   "pygments_lexer": "ipython3",
   "version": "3.10.8"
  },
  "orig_nbformat": 4,
  "vscode": {
   "interpreter": {
    "hash": "5addf786bcd861d1ce5006f23111f8cbb206731e5b61b0a5632ba9e0252558a8"
   }
  }
 },
 "nbformat": 4,
 "nbformat_minor": 2
}
