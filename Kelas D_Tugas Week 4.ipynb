{
 "cells": [
  {
   "cell_type": "code",
   "execution_count": 2,
   "metadata": {},
   "outputs": [
    {
     "name": "stdout",
     "output_type": "stream",
     "text": [
      "Rizal\n",
      "I0322109\n",
      "D\n"
     ]
    }
   ],
   "source": [
    "print(input(\"Nama: \"))\n",
    "print(input(\"NIM: \"))\n",
    "print(input(\"Kelas: \"))"
   ]
  },
  {
   "attachments": {},
   "cell_type": "markdown",
   "metadata": {},
   "source": [
    "## 1."
   ]
  },
  {
   "attachments": {},
   "cell_type": "markdown",
   "metadata": {},
   "source": [
    "Buatlah program yang menampilkan salam “Selamat Pagi” dari berbagai negara {Inggris, Perancis, Italia, Spanyol, Jepang, Korea} dengan dua input dari user yaitu bahasa dan diikuti nama user.<br>\n",
    "<br>Ex : \n",
    "<br>\"Ohayou, Onii Chan\"\n",
    "> *note: Kerjakan soal ini dengan percabangan*"
   ]
  },
  {
   "cell_type": "code",
   "execution_count": 3,
   "metadata": {},
   "outputs": [
    {
     "name": "stdout",
     "output_type": "stream",
     "text": [
      "good morning rizal\n"
     ]
    }
   ],
   "source": [
    "# Kerjakan soal nomor 1 disini\n",
    "bhs = input('pilih bahasa ucapan selamat pagi :')\n",
    "nama = input('masukkan nama :')\n",
    "negara = ['inggris','perancis','italia','spanyol','jepang','korea']\n",
    "ucapan = ['good morning','bonjour','boungiorno','buen dia','ohayo','joheun achimieyo']\n",
    "\n",
    "if bhs == negara[0]:\n",
    "    print(ucapan[0],nama)\n",
    "elif bhs == negara[1]:\n",
    "    print(ucapan[1],nama)\n",
    "elif bhs == negara[2]:\n",
    "    print(ucapan[2],nama)\n",
    "elif bhs == negara[3]:\n",
    "    print(ucapan[3],nama)\n",
    "elif bhs == negara[4]:\n",
    "    print(ucapan[4],nama)\n",
    "elif bhs == negara[5]:\n",
    "    print(ucapan[5],nama)\n",
    "\n",
    "else :\n",
    "    print('bahasa tidak ada')"
   ]
  },
  {
   "attachments": {},
   "cell_type": "markdown",
   "metadata": {},
   "source": [
    "## 2."
   ]
  },
  {
   "attachments": {},
   "cell_type": "markdown",
   "metadata": {},
   "source": [
    "Buatlah program perhitungan umur dengan menggunakan input user yaitu tahun lahir dari user.<br>\n",
    "<br>Output yang dihasilkan adalah sebagai berikut:\n",
    "<br>\"Apakah anda berasal dari masa depan?\"\n",
    "<br>\"Anda barusaja lahir\"\n",
    "<br>\"Umur Anda adalah xx tahun\"\n",
    "> *note: Kerjakan soal ini dengan percabangan*"
   ]
  },
  {
   "cell_type": "code",
   "execution_count": 4,
   "metadata": {},
   "outputs": [
    {
     "name": "stdout",
     "output_type": "stream",
     "text": [
      "umur anda adalah 19 tahun\n"
     ]
    }
   ],
   "source": [
    "# Kerjakan soal nomor 2 disini\n",
    "x = int(input('masukkan tahun kelahiran :'))\n",
    "y = 2023\n",
    "z = y-x\n",
    "\n",
    "if x > y:\n",
    "    print('apakah anda berasal dari masa depan')\n",
    "elif x == y:\n",
    "    print('anda baru saja lahir')\n",
    "else :\n",
    "    print(f'umur anda adalah {z} tahun')"
   ]
  }
 ],
 "metadata": {
  "kernelspec": {
   "display_name": "Python 3",
   "language": "python",
   "name": "python3"
  },
  "language_info": {
   "codemirror_mode": {
    "name": "ipython",
    "version": 3
   },
   "file_extension": ".py",
   "mimetype": "text/x-python",
   "name": "python",
   "nbconvert_exporter": "python",
   "pygments_lexer": "ipython3",
   "version": "3.10.8"
  },
  "orig_nbformat": 4
 },
 "nbformat": 4,
 "nbformat_minor": 2
}
